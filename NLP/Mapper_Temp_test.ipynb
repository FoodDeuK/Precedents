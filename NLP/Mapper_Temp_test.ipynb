{
 "cells": [
  {
   "cell_type": "code",
   "execution_count": 11,
   "id": "8dea9df0",
   "metadata": {},
   "outputs": [
    {
     "name": "stdout",
     "output_type": "stream",
     "text": [
      "Requirement already satisfied: gensim==3.8.3 in c:\\users\\fooddeuk\\appdata\\roaming\\python\\python38\\site-packages (3.8.3)\n",
      "Requirement already satisfied: Cython==0.29.14 in c:\\users\\fooddeuk\\appdata\\roaming\\python\\python38\\site-packages (from gensim==3.8.3) (0.29.14)\n",
      "Requirement already satisfied: numpy>=1.11.3 in c:\\programdata\\anaconda3\\envs\\tf-gpu\\lib\\site-packages (from gensim==3.8.3) (1.21.5)\n",
      "Requirement already satisfied: smart-open>=1.8.1 in c:\\programdata\\anaconda3\\envs\\tf-gpu\\lib\\site-packages (from gensim==3.8.3) (6.0.0)\n",
      "Requirement already satisfied: scipy>=0.18.1 in c:\\programdata\\anaconda3\\envs\\tf-gpu\\lib\\site-packages (from gensim==3.8.3) (1.7.3)\n",
      "Requirement already satisfied: six>=1.5.0 in c:\\programdata\\anaconda3\\envs\\tf-gpu\\lib\\site-packages (from gensim==3.8.3) (1.16.0)\n",
      "Note: you may need to restart the kernel to use updated packages.\n"
     ]
    },
    {
     "name": "stderr",
     "output_type": "stream",
     "text": [
      "WARNING: You are using pip version 22.0.4; however, version 22.3.1 is available.\n",
      "You should consider upgrading via the 'c:\\ProgramData\\Anaconda3\\envs\\tf-gpu\\python.exe -m pip install --upgrade pip' command.\n"
     ]
    }
   ],
   "source": [
    "pip install gensim==3.8.3"
   ]
  },
  {
   "cell_type": "code",
   "execution_count": 12,
   "id": "b8ad5469",
   "metadata": {},
   "outputs": [],
   "source": [
    "import re\n",
    "import os\n",
    "import numpy as np\n",
    "import pandas as pd\n",
    "from pprint import pprint\n",
    "\n",
    "from konlpy.tag import Okt\n",
    "import gensim\n",
    "import gensim.corpora as corpora\n",
    "from gensim.utils import simple_preprocess\n",
    "from gensim.models import CoherenceModel\n",
    "from tqdm import trange\n",
    "\n",
    "import sqlite3\n",
    "\n",
    "import pyLDAvis\n",
    "import pyLDAvis.gensim_models\n",
    "import matplotlib.pyplot as plt\n",
    "%matplotlib inline"
   ]
  },
  {
   "cell_type": "code",
   "execution_count": 13,
   "id": "ef65398f",
   "metadata": {},
   "outputs": [],
   "source": [
    "conn = sqlite3.connect(\"../Precedents.db\")\n",
    "curs = conn.cursor()\n",
    "\n",
    "sql = \"SELECT * FROM Precedents_IC\"\n",
    "curs.execute(sql)\n",
    "\n",
    "fetchedData = curs.fetchall()\n",
    "length = len(fetchedData)\n",
    "fetchedData = [list(fetchedData[x]) for x in range(length)]"
   ]
  },
  {
   "cell_type": "code",
   "execution_count": 14,
   "id": "c6de9cdb",
   "metadata": {},
   "outputs": [
    {
     "name": "stderr",
     "output_type": "stream",
     "text": [
      "100%|██████████| 317/317 [01:51<00:00,  2.84it/s]\n"
     ]
    }
   ],
   "source": [
    "data_word=[]\n",
    "\n",
    "for x in trange(length):\n",
    "    okt = Okt()\n",
    "    \n",
    "    filepath = \"C:/Temp/Cases/판례내용/{}.txt\".format(fetchedData[x][0])\n",
    "    if os.path.getsize(filepath) != 0:\n",
    "        with open(filepath) as file:\n",
    "            doc = file.read()\n",
    "        try:\n",
    "            data_word.append(okt.nouns(doc))\n",
    "        except Exception as e:\n",
    "            continue"
   ]
  },
  {
   "cell_type": "code",
   "execution_count": 15,
   "id": "ee6eb95f",
   "metadata": {},
   "outputs": [
    {
     "name": "stdout",
     "output_type": "stream",
     "text": [
      "['피고인', '상고인', '피고인', '및', '검사', '변호인', '변호사', '황', '선철', '외', '인', '원심판결', '전주', '지법', '선고', '노', '판결', '주문', '상고', '모두', '기각', '이유', '먼저', '검사', '상고이유', '중순', '경', '자', '자', '각', '공무집행방해', '점', '대하', '형법', '제', '규정', '공무집행방해', '죄', '공무원', '직무집행', '경우', '성립', '것', '여기', '공무', '집행', '함', '그', '행위', '공무원', '추상', '권한', '속', '뿐', '구체', '직무집행', '관', '법률상', '요건', '방식', '경우', '것이므', '적법성', '결여', '직무', '행위', '공무원', '대항', '폭행', '협박', '공무집행방해', '죄', '수', '대법원', '선고', '도', '판결', '참조', '원심판결', '이유', '원심', '그', '채용', '증거', '종합', '군산', '경찰서', '방범', '소속', '경찰관', '그', '각', '일시', '주류', '판매', '여부', '확인', '위', '피고인', '운영', '노래', '연습장', '검색', '사실', '피고인', '이', '항의', '경찰관', '위', '각', '검색', '업무', '방해', '사실', '각', '인정', '다음', '경찰관', '주류', '판매', '여부', '확인', '위', '노래', '연습장', '검색', '행위', '풍속영업', '규제', '관', '법률', '제', '제', '항', '규정', '검사', '해당', '또', '일반', '허용', '법령', '법관', '발부', '영장', '노래', '연습장', '업주', '의사', '행', '수', '것', '위', '경찰관', '피고인', '의사', '반함', '불구', '영장', '행', '기록', '위', '경찰관', '위', '각', '행위', '직무집행', '볼', '수', '따라서', '피고인', '방해', '공무집행방해', '죄', '구성', '판단', '기록', '관계', '법령', '위', '법리', '원심', '위', '판단', '거기', '상고이유', '주장', '채증', '법칙', '위배', '사실오인', '경찰관', '직무집행', '관', '법리', '오해', '등', '위법', '나', '자', '공무집행방해', '점', '대하', '공무집행방해', '죄', '협박', '함', '상대방', '포심', '목적', '해악', '고지', '행위', '의미', '것', '고지', '해악', '내용', '그', '경위', '행위', '당시', '주위', '상황', '행위자', '성향', '행위자', '상대방', '친', '숙의', '정도', '지위', '등', '상호', '관계', '등', '행위', '당시', '여러', '사정', '종합', '객관', '상대방', '포심', '족하', '상대방', '현실', '포심', '것', '요구', '것', '다만', '그', '협박', '상대방', '전혀', '개', '의치', '정도', '경우', '협박', '해당', '대법원', '선고', '도', '판결', '참조', '원심판결', '이유', '기록', '위', '법리', '원심', '기록', '바탕', '피고인', '군산', '경찰서', '방범', '과', '경위', '소외', '이', '부분', '사실', '방법', '항의', '사실', '인정', '피고인', '그', '당시', '행위', '상대방', '소외', '객관', '포심', '족', '정도', '못', '그', '정도', '위', '소외', '개', '의치', '정도', '공무집행방해', '죄', '어서', '폭행', '협박', '해당', '판단', '것', '거기', '상고이유', '주장', '채증', '법칙', '위배', '사실오인', '공무집행방해', '죄', '어서', '폭행', '협박', '관', '법리', '오해', '등', '위법', '다음', '변호인', '상고이유', '경찰관', '취거', '음료', '이', '대한', '감정서', '증거능력', '대하', '기록', '군산', '경찰서', '방범', '소속', '경찰관', '주류', '판매', '여부', '확인', '위', '무단', '피고인', '노래', '연습장', '검색', '압수', '절차', '거치', '플라스틱', '통', '음료', '취거', '사실', '인정', '압수물', '압수', '절차', '위법', '그', '물건', '자체', '성질', '형태', '변경', '것', '그', '형태', '성질', '등', '관', '증거', '가치', '증거능력', '것', '대법원', '선고', '도', '판결', '참조', '또', '기록', '위', '경찰관', '위', '음료', '대한', '감정', '이전', '위', '음료', '다른', '알코올음료', '혼합', '거나', '위', '음료', '다른', '알코올음료', '볼', '수도', '위', '음료', '이', '대한', '국립', '과학수사', '연구소', '감정서', '증거능력', '취지', '상고이유', '주장', '이유', '나', '나머지', '상고이유', '대하', '원심', '유지', '제', '심', '판결', '채용', '증거', '기록', '원심', '피고인', '대한', '음반', '비디오물', '및', '게임물', '관', '법률', '위반', '노래', '연습장', '주류', '판매', '죄', '정보통신망', '이용', '촉진', '및', '정보보호', '등', '관', '법률', '위반', '명예훼손', '죄', '각', '범죄사실', '유죄', '인정', '제', '심', '판결', '그대로', '유지', '조치', '거기', '상고이유', '주장', '채증', '법칙', '위배', '사실오인', '정보통신망', '이용', '촉진', '및', '정보보호', '등', '관', '법률', '위반', '죄', '어서', '공연', '성과', '전파', '가능성', '관', '법리', '오해', '등', '위법', '결', '론', '상고', '모두', '기각', '관여', '법관', '일치', '의견', '주문', '판결', '대법관', '박재윤', '재판', '이규홍', '주심', '양승태']\n"
     ]
    }
   ],
   "source": [
    "print(data_word[300])"
   ]
  },
  {
   "cell_type": "code",
   "execution_count": 16,
   "id": "ddb61109",
   "metadata": {},
   "outputs": [],
   "source": [
    "id2word=corpora.Dictionary(data_word)\n",
    "id2word.filter_extremes(no_below = 2, no_above=0.5)\n",
    "texts = data_word\n",
    "corpus = [id2word.doc2bow(text) for text in texts]\n",
    "\n",
    "os.environ.update({'MALLET_HOME':r'C:/Temp/mallet-2.0.8/'})\n",
    "mallet_path = 'C:/Temp/mallet-2.0.8/bin/mallet.bat'\n",
    "ldamallet = gensim.models.wrappers.LdaMallet(mallet_path, corpus = corpus, num_topics = 10, id2word = id2word)"
   ]
  },
  {
   "cell_type": "code",
   "execution_count": 17,
   "id": "b3d39425",
   "metadata": {},
   "outputs": [
    {
     "name": "stdout",
     "output_type": "stream",
     "text": [
      "Num Topics = 1  has Coherence Value of 0.2936622423498675\n",
      "Num Topics = 2  has Coherence Value of 0.48747892469455995\n",
      "Num Topics = 3  has Coherence Value of 0.48610291035362185\n",
      "Num Topics = 4  has Coherence Value of 0.49800781799863253\n",
      "Num Topics = 5  has Coherence Value of 0.5546145210617348\n",
      "Num Topics = 6  has Coherence Value of 0.5491729099113339\n",
      "Num Topics = 7  has Coherence Value of 0.5849608201129924\n",
      "Num Topics = 8  has Coherence Value of 0.5850669807233602\n",
      "Num Topics = 9  has Coherence Value of 0.5580811900986525\n",
      "Num Topics = 10  has Coherence Value of 0.5591430675832847\n"
     ]
    },
    {
     "name": "stderr",
     "output_type": "stream",
     "text": [
      "C:\\Users\\FoodDeuK\\AppData\\Local\\Temp\\ipykernel_9116\\3295783991.py:48: FutureWarning: The frame.append method is deprecated and will be removed from pandas in a future version. Use pandas.concat instead.\n",
      "  sent_topics_df = sent_topics_df.append(pd.Series([int(topic_num), round(prop_topic,4), topic_keywords]), ignore_index=True)\n"
     ]
    },
    {
     "name": "stdout",
     "output_type": "stream",
     "text": [
      "<class 'pandas.core.frame.DataFrame'>\n"
     ]
    }
   ],
   "source": [
    "#coherence_model_ldamallet = CoherenceModel(model=ldamallet, texts=texts, dictionary=id2word, coherence='c_v')\n",
    "#coherence_ldamallet = coherence_model_ldamallet.get_coherence()\n",
    "\n",
    "fetchedData_df = pd.DataFrame(fetchedData, columns = ['판례일련번호', '사건명', '사건번호', '선고일자', '법원명', '사건종류명', '사건종류코드', '판결유형', '선고', '판례상세링크'])\n",
    "\n",
    "def compute_coherence_values(dictionary, corpus, texts, start, limit):\n",
    "\n",
    "    coherence_values = []\n",
    "    model_list = []\n",
    "    for num_topics in range(start, limit):\n",
    "        model = gensim.models.wrappers.LdaMallet(mallet_path, corpus=corpus, num_topics=num_topics, id2word=id2word)\n",
    "        model_list.append(model)\n",
    "        coherencemodel = CoherenceModel(model=model, texts=texts, dictionary=dictionary, coherence='c_v')\n",
    "        coherence_values.append(coherencemodel.get_coherence())\n",
    "\n",
    "    return model_list, coherence_values\n",
    "\n",
    "model_list, coherence_values = compute_coherence_values(dictionary=id2word, corpus=corpus, texts=data_word, start=1, limit=11)\n",
    "\n",
    "limit=11; start=1\n",
    "x = range(start, limit)\n",
    "topic_num = 0\n",
    "count = 0\n",
    "max_coherence = 0\n",
    "for m, cv in zip(x, coherence_values):\n",
    "    print(\"Num Topics =\", m, \" has Coherence Value of\", cv)\n",
    "    coherence = cv\n",
    "    if coherence >= max_coherence:\n",
    "        max_coherence = coherence\n",
    "        topic_num = m\n",
    "        model_list_num = count   \n",
    "    count = count+1\n",
    "        \n",
    "optimal_model = model_list[model_list_num]\n",
    "model_topics = optimal_model.show_topics(formatted=False)\n",
    "\n",
    "def format_topics_sentences(ldamodel=optimal_model, corpus=corpus):\n",
    "\n",
    "    sent_topics_df = pd.DataFrame()\n",
    "\n",
    "    for i, row in enumerate(ldamodel[corpus]):\n",
    "        row = sorted(row, key=lambda x: (x[1]), reverse=True)\n",
    "\n",
    "        for j, (topic_num, prop_topic) in enumerate(row):\n",
    "            if j == 0:\n",
    "                wp = ldamodel.show_topic(topic_num,topn=10)\n",
    "                topic_keywords = \", \".join([word for word, prop in wp])\n",
    "                sent_topics_df = sent_topics_df.append(pd.Series([int(topic_num), round(prop_topic,4), topic_keywords]), ignore_index=True)\n",
    "            else:\n",
    "                break\n",
    "    sent_topics_df.columns = ['Dominant_Topic', 'Perc_Contribution', 'Topic_Keywords']\n",
    "    print(type(sent_topics_df))\n",
    "\n",
    "    sent_topics_df = pd.concat([sent_topics_df, fetchedData_df['판례일련번호'], fetchedData_df['사건명'], fetchedData_df['선고일자']], axis=1)\n",
    "    return(sent_topics_df)\n",
    "\n",
    "\n",
    "df_topic_sents_keywords = format_topics_sentences(ldamodel=optimal_model, corpus=corpus)\n",
    "\n",
    "df_topic_cases = df_topic_sents_keywords.reset_index()\n",
    "df_topic_cases.columns = ['Document_No', 'Dominant_Topic', 'Topic_Perc_Contrib', 'Keywords', '판례일련번호', '사건명', '선고일자']\n",
    "df_topic_cases = df_topic_cases.sort_values(by=['Dominant_Topic'])\n",
    "\n",
    "# Group top 5 sentences under each topic\n",
    "sent_topics_sorteddf_mallet = pd.DataFrame()\n",
    "\n",
    "sent_topics_outdf_grpd = df_topic_sents_keywords.groupby('Dominant_Topic')\n",
    "\n",
    "for i, grp in sent_topics_outdf_grpd:\n",
    "    sent_topics_sorteddf_mallet = pd.concat([sent_topics_sorteddf_mallet, grp.sort_values(['Perc_Contribution'], ascending=[0]).head(1)], axis=0)\n",
    "\n",
    "sent_topics_sorteddf_mallet.reset_index(drop=True, inplace=True)\n",
    "\n",
    "topic_counts = df_topic_sents_keywords['Dominant_Topic'].value_counts()\n",
    "topic_counts.sort_index(inplace=True)\n",
    "\n",
    "topic_contribution = round(topic_counts/topic_counts.sum(), 4)\n",
    "topic_contribution\n",
    "\n",
    "lda_inform = pd.concat([sent_topics_sorteddf_mallet, topic_counts, topic_contribution], axis=1)\n",
    "lda_inform.columns=[\"Topic_Num\", \"Topic_Perc_Contrib\", \"Keywords\", '판례일련번호', '사건명', '선고일자', \"Num_Documents\", \"Perc_Documents\"]\n",
    "lda_inform = lda_inform[[\"Topic_Num\", \"Keywords\", \"Num_Documents\",\"Perc_Documents\"]]\n",
    "lda_inform\n",
    "\n",
    "lda_inform['Topic_Num'] =lda_inform['Topic_Num'] +1\n",
    "lda_inform.Topic_Num = lda_inform.Topic_Num.astype(str)\n",
    "lda_inform['Topic_Num'] =lda_inform['Topic_Num'].str.split('.').str[0]\n",
    "df_topic_cases['Dominant_Topic'] =df_topic_cases['Dominant_Topic'] +1\n",
    "df_topic_cases.Dominant_Topic = df_topic_cases.Dominant_Topic.astype(str)\n",
    "df_topic_cases['Dominant_Topic'] =df_topic_cases['Dominant_Topic'].str.split('.').str[0]"
   ]
  },
  {
   "cell_type": "code",
   "execution_count": 18,
   "id": "5717acd9",
   "metadata": {},
   "outputs": [
    {
     "data": {
      "text/html": [
       "<div>\n",
       "<style scoped>\n",
       "    .dataframe tbody tr th:only-of-type {\n",
       "        vertical-align: middle;\n",
       "    }\n",
       "\n",
       "    .dataframe tbody tr th {\n",
       "        vertical-align: top;\n",
       "    }\n",
       "\n",
       "    .dataframe thead th {\n",
       "        text-align: right;\n",
       "    }\n",
       "</style>\n",
       "<table border=\"1\" class=\"dataframe\">\n",
       "  <thead>\n",
       "    <tr style=\"text-align: right;\">\n",
       "      <th></th>\n",
       "      <th>Topic_Num</th>\n",
       "      <th>Keywords</th>\n",
       "      <th>Num_Documents</th>\n",
       "      <th>Perc_Documents</th>\n",
       "    </tr>\n",
       "  </thead>\n",
       "  <tbody>\n",
       "    <tr>\n",
       "      <th>0.0</th>\n",
       "      <td>1</td>\n",
       "      <td>광고, 프로그램, 카페, 주식회사, 게시, 글, 광고주, 전화, 항의, 중단</td>\n",
       "      <td>18</td>\n",
       "      <td>0.0570</td>\n",
       "    </tr>\n",
       "    <tr>\n",
       "      <th>1.0</th>\n",
       "      <td>2</td>\n",
       "      <td>개인정보, 제공, 진술, 누설, 원, 처리, 당원, 자, 업무, 명부</td>\n",
       "      <td>42</td>\n",
       "      <td>0.1329</td>\n",
       "    </tr>\n",
       "    <tr>\n",
       "      <th>2.0</th>\n",
       "      <td>3</td>\n",
       "      <td>국가정보원, 활동, 보고, 직원, 지시, 법인, 팀, 진술, 국가정보원장, 순번</td>\n",
       "      <td>4</td>\n",
       "      <td>0.0127</td>\n",
       "    </tr>\n",
       "    <tr>\n",
       "      <th>3.0</th>\n",
       "      <td>4</td>\n",
       "      <td>범행, 차, 콜센터, 양형, 상담원, 조직, 사이트, 번호, 범죄수익, 금액</td>\n",
       "      <td>18</td>\n",
       "      <td>0.0570</td>\n",
       "    </tr>\n",
       "    <tr>\n",
       "      <th>4.0</th>\n",
       "      <td>5</td>\n",
       "      <td>개인정보, 회사, 제공, 동의, 게임, 피고, 자, 원고, 수집, 이용자</td>\n",
       "      <td>46</td>\n",
       "      <td>0.1456</td>\n",
       "    </tr>\n",
       "    <tr>\n",
       "      <th>5.0</th>\n",
       "      <td>6</td>\n",
       "      <td>상고이유, 파기, 촬영, 법, 음란물, 청소년, 상고, 타인, 보호, 동영상</td>\n",
       "      <td>124</td>\n",
       "      <td>0.3924</td>\n",
       "    </tr>\n",
       "    <tr>\n",
       "      <th>6.0</th>\n",
       "      <td>7</td>\n",
       "      <td>주식회사, 적시, 표현, 비방, 작성, 후보자, 이익, 글, 기사, 허위</td>\n",
       "      <td>62</td>\n",
       "      <td>0.1962</td>\n",
       "    </tr>\n",
       "    <tr>\n",
       "      <th>7.0</th>\n",
       "      <td>8</td>\n",
       "      <td>국익, 국정원, 지시, 지원, 차장, 단체, 직원, 자금, 전략, 직무</td>\n",
       "      <td>2</td>\n",
       "      <td>0.0063</td>\n",
       "    </tr>\n",
       "  </tbody>\n",
       "</table>\n",
       "</div>"
      ],
      "text/plain": [
       "    Topic_Num                                      Keywords  Num_Documents  \\\n",
       "0.0         1    광고, 프로그램, 카페, 주식회사, 게시, 글, 광고주, 전화, 항의, 중단             18   \n",
       "1.0         2        개인정보, 제공, 진술, 누설, 원, 처리, 당원, 자, 업무, 명부             42   \n",
       "2.0         3  국가정보원, 활동, 보고, 직원, 지시, 법인, 팀, 진술, 국가정보원장, 순번              4   \n",
       "3.0         4    범행, 차, 콜센터, 양형, 상담원, 조직, 사이트, 번호, 범죄수익, 금액             18   \n",
       "4.0         5      개인정보, 회사, 제공, 동의, 게임, 피고, 자, 원고, 수집, 이용자             46   \n",
       "5.0         6    상고이유, 파기, 촬영, 법, 음란물, 청소년, 상고, 타인, 보호, 동영상            124   \n",
       "6.0         7      주식회사, 적시, 표현, 비방, 작성, 후보자, 이익, 글, 기사, 허위             62   \n",
       "7.0         8       국익, 국정원, 지시, 지원, 차장, 단체, 직원, 자금, 전략, 직무              2   \n",
       "\n",
       "     Perc_Documents  \n",
       "0.0          0.0570  \n",
       "1.0          0.1329  \n",
       "2.0          0.0127  \n",
       "3.0          0.0570  \n",
       "4.0          0.1456  \n",
       "5.0          0.3924  \n",
       "6.0          0.1962  \n",
       "7.0          0.0063  "
      ]
     },
     "execution_count": 18,
     "metadata": {},
     "output_type": "execute_result"
    }
   ],
   "source": [
    "lda_inform.to_csv (\"./lda_inform_17th.csv\", index = None)\n",
    "lda_inform"
   ]
  },
  {
   "cell_type": "code",
   "execution_count": 20,
   "id": "898d3fc3",
   "metadata": {},
   "outputs": [
    {
     "name": "stderr",
     "output_type": "stream",
     "text": [
      "C:\\Users\\FoodDeuK\\AppData\\Local\\Temp\\ipykernel_9116\\1026228754.py:3: SettingWithCopyWarning: \n",
      "A value is trying to be set on a copy of a slice from a DataFrame\n",
      "\n",
      "See the caveats in the documentation: https://pandas.pydata.org/pandas-docs/stable/user_guide/indexing.html#returning-a-view-versus-a-copy\n",
      "  globals()['df_{}'.format(i)].sort_values('Topic_Perc_Contrib',ascending=False,inplace = True)\n"
     ]
    }
   ],
   "source": [
    "for i in range(1,topic_num+1):\n",
    "    globals()['df_{}'.format(i)]=df_topic_cases.loc[df_topic_cases.Dominant_Topic==str(i)]\n",
    "    globals()['df_{}'.format(i)].sort_values('Topic_Perc_Contrib',ascending=False,inplace = True)\n",
    "    globals()['df_{}'.format(i)].to_csv (\"./topic(\"+str(i)+\")_cases_17th.csv\", index = None)"
   ]
  },
  {
   "cell_type": "code",
   "execution_count": 21,
   "id": "0c6d2144",
   "metadata": {},
   "outputs": [
    {
     "name": "stderr",
     "output_type": "stream",
     "text": [
      "c:\\ProgramData\\Anaconda3\\envs\\tf-gpu\\lib\\site-packages\\pandas\\core\\internals\\blocks.py:351: RuntimeWarning: divide by zero encountered in log\n",
      "  result = func(self.values, **kwargs)\n",
      "c:\\ProgramData\\Anaconda3\\envs\\tf-gpu\\lib\\site-packages\\pyLDAvis\\_prepare.py:246: FutureWarning: In a future version of pandas all arguments of DataFrame.drop except for the argument 'labels' will be keyword-only.\n",
      "  default_term_info = default_term_info.sort_values(\n",
      "c:\\ProgramData\\Anaconda3\\envs\\tf-gpu\\lib\\site-packages\\pandas\\core\\internals\\blocks.py:351: RuntimeWarning: divide by zero encountered in log\n",
      "  result = func(self.values, **kwargs)\n"
     ]
    }
   ],
   "source": [
    "from gensim.models import LdaModel\n",
    "\n",
    "def mallet_to_lda(optimal_model):\n",
    "    model_gensim = LdaModel(\n",
    "        id2word=optimal_model.id2word, num_topics=optimal_model.num_topics,\n",
    "        alpha=optimal_model.alpha, eta=0, iterations=1000,\n",
    "        gamma_threshold=0.001,\n",
    "        dtype=np.float32\n",
    "    )\n",
    "    model_gensim.sync_state()\n",
    "    model_gensim.state.sstats = optimal_model.wordtopics\n",
    "    return model_gensim\n",
    "model = mallet_to_lda(optimal_model)\n",
    "\n",
    "pyLDAvis.enable_notebook()\n",
    "vis = pyLDAvis.gensim_models.prepare(model, corpus, id2word)\n",
    "pyLDAvis.save_html(vis, 'lda_17th.html')"
   ]
  }
 ],
 "metadata": {
  "kernelspec": {
   "display_name": "TensorGPUGPU",
   "language": "python",
   "name": "tensorgpu"
  },
  "language_info": {
   "codemirror_mode": {
    "name": "ipython",
    "version": 3
   },
   "file_extension": ".py",
   "mimetype": "text/x-python",
   "name": "python",
   "nbconvert_exporter": "python",
   "pygments_lexer": "ipython3",
   "version": "3.8.13"
  }
 },
 "nbformat": 4,
 "nbformat_minor": 5
}

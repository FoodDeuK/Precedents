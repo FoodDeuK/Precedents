{
 "cells": [
  {
   "cell_type": "code",
   "execution_count": 3,
   "id": "1814d017",
   "metadata": {},
   "outputs": [
    {
     "name": "stdout",
     "output_type": "stream",
     "text": [
      "Collecting pandas\n",
      "  Downloading pandas-1.5.1-cp38-cp38-win_amd64.whl (11.0 MB)\n",
      "Requirement already satisfied: python-dateutil>=2.8.1 in c:\\programdata\\anaconda3\\envs\\tf-gpu\\lib\\site-packages (from pandas) (2.8.2)\n",
      "Collecting pytz>=2020.1\n",
      "  Downloading pytz-2022.6-py2.py3-none-any.whl (498 kB)\n",
      "Requirement already satisfied: numpy>=1.20.3 in c:\\programdata\\anaconda3\\envs\\tf-gpu\\lib\\site-packages (from pandas) (1.21.5)\n",
      "Requirement already satisfied: six>=1.5 in c:\\programdata\\anaconda3\\envs\\tf-gpu\\lib\\site-packages (from python-dateutil>=2.8.1->pandas) (1.16.0)\n",
      "Installing collected packages: pytz, pandas\n",
      "Successfully installed pandas-1.5.1 pytz-2022.6\n",
      "Note: you may need to restart the kernel to use updated packages.\n"
     ]
    },
    {
     "name": "stderr",
     "output_type": "stream",
     "text": [
      "WARNING: You are using pip version 22.0.4; however, version 22.3 is available.\n",
      "You should consider upgrading via the 'c:\\ProgramData\\Anaconda3\\envs\\tf-gpu\\python.exe -m pip install --upgrade pip' command.\n"
     ]
    }
   ],
   "source": [
    "pip install pandas"
   ]
  },
  {
   "cell_type": "code",
   "execution_count": 5,
   "id": "acab1c26",
   "metadata": {},
   "outputs": [
    {
     "data": {
      "text/plain": [
       "'c:\\\\Users\\\\FoodDeuK\\\\Google Drive\\\\KHUCE_Archive\\\\2022-2\\\\캡스톤디자인2\\\\프로젝트\\\\Python'"
      ]
     },
     "execution_count": 5,
     "metadata": {},
     "output_type": "execute_result"
    }
   ],
   "source": [
    "pwd"
   ]
  },
  {
   "cell_type": "code",
   "execution_count": 6,
   "id": "051bba5b",
   "metadata": {},
   "outputs": [
    {
     "name": "stderr",
     "output_type": "stream",
     "text": [
      "100%|██████████| 84980/84980 [2:51:00<00:00,  8.28it/s]   \n"
     ]
    }
   ],
   "source": [
    "import pandas as pd\n",
    "import xml.etree.ElementTree as ET\n",
    "import sqlite3\n",
    "\n",
    "from urllib.request import urlopen\n",
    "from tqdm import trange\n",
    "\n",
    "conn_fetcher = sqlite3.connect(\"../Precedents.db\")\n",
    "curs_fetcher = conn_fetcher.cursor()\n",
    "\n",
    "sql = \"select * from Precedents\"\n",
    "curs_fetcher.execute(sql)\n",
    "\n",
    "fetchedData = curs_fetcher.fetchall()\n",
    "totalCnt = len(fetchedData)\n",
    "fetchedData = [list(fetchedData[x]) for x in range(totalCnt)]\n",
    "\n",
    "url = \"https://www.law.go.kr/DRF/lawService.do?OC=abs0lutezer0&target=prec&ID={}&type=XML\".format(fetchedData[0][0])\n",
    "response = urlopen(url).read()\n",
    "xtree = ET.fromstring(response)\n",
    "\n",
    "pages = 1\n",
    "rows = []\n",
    "for x in trange(int(totalCnt)):\n",
    "    for node in xtree:\n",
    "        try:\n",
    "            판례정보일련번호 = node.find('판례정보일련번호').text\n",
    "            사건명 = node.find('사건명').text\n",
    "            사건번호 = node.find('사건번호').text\n",
    "            선고일자 = node.find('선고일자').text\n",
    "            선고 = node.find('선고').text\n",
    "            법원명 = node.find('법원명').text\n",
    "            법원종류코드 = node.find('법원종류코드').text\n",
    "            사건종류명 = node.find('사건종류명').text\n",
    "            사건종류코드 = node.find('사건종류코드').text\n",
    "            판시유형 = node.find('판시유형').text\n",
    "            판시사항 = node.find('판시사항').text\n",
    "            판결요지 = node.find('판결요지').text\n",
    "            참조조문 = node.find('참조조문').text\n",
    "            참조판례 = node.find('참조판례').text\n",
    "            판례내용 = node.find('판례내용').text\n",
    "        \n",
    "            rows.append({'판례정보일련번호': 판례정보일련번호, '사건명': 사건명, '사건번호': 사건번호, '선고일자': 선고일자, '선고': 선고, '법원명': 법원명, '법원종류코드': 법원종류코드,\n",
    "                        '사건종류명': 사건종류명, '사건종류코드': 사건종류코드, '판시유형': 판시유형, '판시사항': 판시사항, '판결요지': 판결요지, '참조조문': 참조조문,\n",
    "                        '참조판례': 참조판례, '판례내용': 판례내용})\n",
    "\n",
    "        except Exception as e:\n",
    "            continue\n",
    "    \n",
    "    url = \"https://www.law.go.kr/DRF/lawService.do?OC=abs0lutezer0&target=prec&ID={}&type=XML\".format(fetchedData[x][0])\n",
    "    pages += 1\n",
    "    response = urlopen(url).read()\n",
    "    xtree = ET.fromstring(response)\n",
    "cases = pd.DataFrame(rows)"
   ]
  },
  {
   "cell_type": "code",
   "execution_count": 20,
   "id": "2ac4387c",
   "metadata": {},
   "outputs": [],
   "source": [
    "cases.to_csv('../Precedents_Detail.csv', index = False)\n"
   ]
  }
 ],
 "metadata": {
  "kernelspec": {
   "display_name": "TensorGPUGPU",
   "language": "python",
   "name": "tensorgpu"
  },
  "language_info": {
   "codemirror_mode": {
    "name": "ipython",
    "version": 3
   },
   "file_extension": ".py",
   "mimetype": "text/x-python",
   "name": "python",
   "nbconvert_exporter": "python",
   "pygments_lexer": "ipython3",
   "version": "3.8.13"
  }
 },
 "nbformat": 4,
 "nbformat_minor": 5
}

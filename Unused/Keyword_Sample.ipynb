{
 "cells": [
  {
   "cell_type": "code",
   "execution_count": 1,
   "id": "1adbb2b0",
   "metadata": {},
   "outputs": [],
   "source": [
    "import numpy as np\n",
    "import itertools\n",
    "import sqlite3\n",
    "import os\n",
    "import re\n",
    "\n",
    "from konlpy.tag import Okt\n",
    "from sklearn.feature_extraction.text import CountVectorizer\n",
    "from sklearn.metrics.pairwise import cosine_similarity\n",
    "from sentence_transformers import SentenceTransformer\n",
    "from tqdm import trange"
   ]
  },
  {
   "cell_type": "code",
   "execution_count": 2,
   "id": "211daf81",
   "metadata": {},
   "outputs": [],
   "source": [
    "conn_src = sqlite3.connect(\"../Precedents.db\")\n",
    "conn_dst = sqlite3.connect(\"../Precedents_Keyword.db\")\n",
    "curs_src = conn_src.cursor()\n",
    "curs_dst = conn_dst.cursor()\n",
    "\n",
    "sql = \"SELECT * FROM Precedents_IC\"\n",
    "curs_src.execute(sql)\n",
    "\n",
    "fetchedData = curs_src.fetchall()\n",
    "length = len(fetchedData)\n",
    "fetchedData = [list(fetchedData[x]) for x in range(length)]"
   ]
  },
  {
   "cell_type": "code",
   "execution_count": 3,
   "id": "0d8cd102",
   "metadata": {
    "scrolled": true
   },
   "outputs": [
    {
     "name": "stderr",
     "output_type": "stream",
     "text": [
      "100%|██████████| 317/317 [5:20:22<00:00, 60.64s/it]    \n"
     ]
    }
   ],
   "source": [
    "for x in trange(length):\n",
    "    output_file = open('keyword_result.txt', 'a', encoding = 'utf-8')\n",
    "    filepath = \"C:/Temp/Cases/판례내용/{}.txt\".format(fetchedData[x][0])\n",
    "    \n",
    "    keyword = \"\"\n",
    "\n",
    "    if os.path.getsize(filepath) != 0:\n",
    "        with open(filepath) as file:\n",
    "            doc = file.read()\n",
    "    \n",
    "        okt = Okt()\n",
    "        tokenized_doc = okt.pos(doc)\n",
    "        tokenized_nouns = ' '.join([word[0] for word in tokenized_doc if word[1] == 'Noun'])\n",
    "\n",
    "        n_gram_range = (2, 3)\n",
    "\n",
    "        count = CountVectorizer(ngram_range=n_gram_range).fit([tokenized_nouns])\n",
    "        candidates = count.get_feature_names_out()\n",
    "\n",
    "#        print('trigram 개수 :',len(candidates))\n",
    "#        print('trigram 다섯개만 출력 :',candidates[:5])\n",
    "\n",
    "        model = SentenceTransformer('sentence-transformers/xlm-r-100langs-bert-base-nli-stsb-mean-tokens')\n",
    "        doc_embedding = model.encode([doc])\n",
    "        candidate_embeddings = model.encode(candidates)\n",
    "\n",
    "        top_n = 30\n",
    "        distances = cosine_similarity(doc_embedding, candidate_embeddings)\n",
    "        rslt = [candidates[index] for index in distances.argsort()[0][-top_n:]]\n",
    "        for element in rslt:\n",
    "            output_file.write(element + ' ')\n",
    "    else:\n",
    "        keyword = \"내용없음\"\n",
    "        output_file.write(keyword)\n",
    "    \n",
    "    output_file.write('\\n')\n",
    "    output_file.close()\n",
    "    curs_dst.execute(f\"INSERT INTO Precedents_Keyword Values (\\\"{fetchedData[x][0]}\\\", \\\"{keyword}\\\")\")"
   ]
  },
  {
   "cell_type": "markdown",
   "id": "782d7986",
   "metadata": {},
   "source": [
    "이 밑부터는 초기(221103) 테스트코드"
   ]
  },
  {
   "cell_type": "code",
   "execution_count": 15,
   "id": "d1cfa183",
   "metadata": {},
   "outputs": [
    {
     "name": "stdout",
     "output_type": "stream",
     "text": [
      "품사 태깅 10개만 출력 : [('\\n', 'Foreign'), ('【', 'Foreign'), ('피고인', 'Noun'), ('】', 'Foreign'), ('【', 'Foreign'), ('검사', 'Noun'), ('】', 'Foreign'), ('최세훈', 'Noun'), ('【', 'Foreign'), ('변호인', 'Noun')]\n",
      "명사 추출 : 피고인 검사 최세훈 변호인 변호사 이경환 주문 피고인 징역 처 이 판결 선고 전 구금일수 위 형 산입 공소 사실 중 부동산 매물 정보 저장 파일 침해 부분 무죄 이유 범죄사실 피고인 지방법원 정보통신망 이용 촉진 및 정보보호 등 관 법률 위반 죄 징역 집행유예 선고 현재 그 유예기간 중 데 한게임 아이디 패스워드 해당 아이디 보유 사이버 포커 를 현금 목적 인터넷 사이트 회원 가입 시 대부분 사람 아이디 패스워드 사용 점 착안 보안 취약 웹사이트 해킹 회원 아이디 비밀번호 소외 공모 경 경 사이 서울 성동구 송정동 프로게이머 피시방 부동산개발 관련 정보 업체 코리아 셋 인베스트먼트 주 의 인터넷 사이트 접속 위 회사 사용 프로그램 의 실행 취약점 이용 위해 위 사이트 문서 소스코드 조작 아이디 의 문자 정보 숫자 뒤 웹서버 입력 를 실행 수 명령어 아이디 란 입력 함 위 회사 접속 접근권한 정보통신망 침입 나 경 위 프로게이머 피시방 부동산 매물 중개회사 셋 메이커 주 의 인터넷 사이트 접속 위 항 방법 위 회사 접속 접근권한 정보통신망 침입 그 무렵 장소 항 위 회사 접속 후 권한 실행 수 상태 이나 의 명령어 실행 명의 회원정보 저장 파일 다운로드 사이트 내 디렉토리 보관 정보통신망 보관 타인 비밀 침해 경 위 프로게이머 피시방 인터넷 결혼 정보 회사 주 듀오 인터넷 사이트 접속 위 항 방법 위 회사 접속 접근권한 정보통신망 침입 그 무렵 장소 항 위 회사 접속 후 권한 실행 수 상태 이나 의 명령어 실행 약 회원정보 저장 파일 다운로드 위 나 항의 디렉토리 보관 정보통신망 보관 타인 비밀 침해 경 서울 서초구 서초동 채널 피시방 재정경제부 웹서버 의 게시판 로 구성 점 알 프로그램 파일 업로드 임의 파일 실행 취약점 이용 일명 악성코드 를 게시판 업로드 후 실행 웹서버 접속 권한 획득 함 접근권한 초과 정보통신망 침입 나 그 무렵 장소 항 위 회사 웹서버 접속 후 권한 실행 명령어 소스 파일 위 회사 접속 수 아이디 비밀번호 를 정보통신망 보관 타인 비밀 침해 증거 요지 피고인 법정 진술 소외 대한 검찰 피의자신문조서 소외 대한 경찰 피의자신문조서 박정인 대한 경찰 진술조서 법령 적용 범죄사실 대한 해당 법조 정보통신망 이용 촉진 및 정보보호 등 관 법률 제 제 호 제 제 항 제 제 호 제 형법 제 경합범 가중 형법 제 전단 제 제 항 제 호 제 미결구금일수 산입 형법 제 무죄 부분 이 사건 공소 사실 중 피고인 프로게이머 피시방 부동산개발 관련 정보 업체 코리아 셋 인베스트먼트 주 의 인터넷 사이트 의 접속 후 권한 실행 수 상태 이나 의 명령어 실행 부동산 매물 정보 저장 파일 회원정보 저장 파일 오인 다운로드 정보통신망 보관 타인 비밀 침해 부분 정보통신망 이용 촉진 및 정보보호 등 관 법률 제 누구 정보통신망 보관 타인 정보 를 훼손 거나 타인 비밀 침해 도용 누설 통신망 보관 정보 정보 비밀 구분 그 보호 정도 달리 따라서 정보 경우 침해 도용 누설 등 행위 훼손 위 조항 처벌 수 것 위 조항 정 비밀 해당 그 정보 내용 사회 통념 정보 정도 비밀 로서 보호 만 내용 포함 것 피고인 다운로드 저장 부동산 매물 정보 부동산 입지조건 등 부동산 매물 정보 것 수사기록 제 쪽 그 정보 위 조항 정 비밀 해당 고 보기 위 파일 일부 시스템 파일 포함 기능 구성 위 파일 포함 시스템 파일 파일 전체 방법 일반 통용 것 위 회사 개발 사용 경우 위 파일 구성 시스템 파일 파일 전체 방법 별도 비밀 로서 보호 만 내용 포함 이상 위 파일 전체 위 조항 정 비밀 해당 고 볼 수도 것 부분 대하 여 입증 따라서 부동산 매물 정보 저장 파일 위 조항 정 비밀 해당 고 볼 수 위 사실 대하 여 무죄 선고 판사 박 이규\n"
     ]
    }
   ],
   "source": [
    "okt = Okt()\n",
    "\n",
    "tokenized_doc = okt.pos(doc)\n",
    "tokenized_nouns = ' '.join([word[0] for word in tokenized_doc if word[1] == 'Noun'])"
   ]
  },
  {
   "cell_type": "code",
   "execution_count": 16,
   "id": "972a1131",
   "metadata": {},
   "outputs": [
    {
     "name": "stdout",
     "output_type": "stream",
     "text": [
      "trigram 개수 : 656\n",
      "trigram 다섯개만 출력 : ['가입 대부분' '가입 대부분 사람' '가중 형법' '가중 형법 전단' '개발 사용']\n"
     ]
    }
   ],
   "source": [
    "n_gram_range = (2, 3)\n",
    "\n",
    "count = CountVectorizer(ngram_range=n_gram_range).fit([tokenized_nouns])\n",
    "candidates = count.get_feature_names_out()\n",
    "\n",
    "print('trigram 개수 :',len(candidates))\n",
    "print('trigram 다섯개만 출력 :',candidates[:5])"
   ]
  },
  {
   "cell_type": "code",
   "execution_count": 17,
   "id": "43f982b4",
   "metadata": {},
   "outputs": [],
   "source": [
    "model = SentenceTransformer('sentence-transformers/xlm-r-100langs-bert-base-nli-stsb-mean-tokens')\n",
    "doc_embedding = model.encode([doc])\n",
    "candidate_embeddings = model.encode(candidates)"
   ]
  },
  {
   "cell_type": "code",
   "execution_count": 25,
   "id": "d23d4f19",
   "metadata": {},
   "outputs": [
    {
     "name": "stdout",
     "output_type": "stream",
     "text": [
      "['구금일수 산입 공소', '항의 디렉토리 보관', '선고 구금일수 산입', '서울 성동구', '포함 피고인 다운로드', '미결구금일수 산입 형법', '악성코드 게시판 업로드', '대한 경찰 피의자신문조서', '비밀 침해 서울', '박정인 대한 경찰', '서울 서초구', '송정동 프로게이머 피시방', '피고인 다운로드 저장', '업체 코리아', '정보 업체 코리아', '성동구 송정동', '이용 일명 악성코드', '사이 서울 성동구', '침해 서울 서초구', '성동구 송정동 프로게이머', '코리아 인베스트먼트', '서울 성동구 송정동', '업체 코리아 인베스트먼트', '코리아 인베스트먼트 인터넷', '전단 미결구금일수 산입', '서울 서초구 서초동', '대한 검찰 피의자신문조서', '경찰 피의자신문조서 박정인', '피의자신문조서 박정인', '피의자신문조서 박정인 대한']\n"
     ]
    }
   ],
   "source": [
    "top_n = 30\n",
    "distances = cosine_similarity(doc_embedding, candidate_embeddings)\n",
    "keywords = [candidates[index] for index in distances.argsort()[0][-top_n:]]\n",
    "print(keywords)"
   ]
  },
  {
   "cell_type": "code",
   "execution_count": null,
   "id": "a7d48748",
   "metadata": {},
   "outputs": [],
   "source": []
  }
 ],
 "metadata": {
  "kernelspec": {
   "display_name": "TensorGPUGPU",
   "language": "python",
   "name": "tensorgpu"
  },
  "language_info": {
   "codemirror_mode": {
    "name": "ipython",
    "version": 3
   },
   "file_extension": ".py",
   "mimetype": "text/x-python",
   "name": "python",
   "nbconvert_exporter": "python",
   "pygments_lexer": "ipython3",
   "version": "3.8.13"
  }
 },
 "nbformat": 4,
 "nbformat_minor": 5
}
